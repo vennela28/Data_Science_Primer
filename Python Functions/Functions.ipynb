{
 "cells": [
  {
   "cell_type": "markdown",
   "metadata": {},
   "source": [
    "# Functions"
   ]
  },
  {
   "cell_type": "markdown",
   "metadata": {},
   "source": [
    "<h3> Syntax </h3>"
   ]
  },
  {
   "cell_type": "markdown",
   "metadata": {},
   "source": [
    "def function_name(parameters):\n",
    "\n",
    "    \"\"\"\n",
    "       \n",
    "       Doc String\n",
    "       \n",
    "    \"\"\"\n",
    "    \n",
    "    Statement(s)"
   ]
  },
  {
   "cell_type": "markdown",
   "metadata": {},
   "source": [
    "- keyword \"def\" marks the start of the function header.\n",
    "- Parameters(arguments) are through which we pass values to a function\n",
    "- colon(:) at the end of function header marks the beginning of definition of a function.\n",
    "- Doc strings describe what does the function actually do. OPTIONAL\n",
    "- \"return\" statement to return a value from the function. OPTIONAL"
   ]
  },
  {
   "cell_type": "code",
   "execution_count": 20,
   "metadata": {},
   "outputs": [
    {
     "name": "stdout",
     "output_type": "stream",
     "text": [
      "Hello Titili\n"
     ]
    }
   ],
   "source": [
    "def my_name(name):\n",
    "    \"\"\"\n",
    "    This function prints the name\n",
    "    \"\"\"\n",
    "    \n",
    "    print(\"Hello\",name)\n",
    "    \n",
    "my_name(\"Titili\")"
   ]
  },
  {
   "cell_type": "markdown",
   "metadata": {},
   "source": [
    "<h3> Doc String </h3>"
   ]
  },
  {
   "cell_type": "markdown",
   "metadata": {},
   "source": [
    "The doc string will be written in triple quotes so that docstring can extend in multiple lines. "
   ]
  },
  {
   "cell_type": "code",
   "execution_count": 21,
   "metadata": {},
   "outputs": [
    {
     "name": "stdout",
     "output_type": "stream",
     "text": [
      "\n",
      "    This function prints the name\n",
      "    \n"
     ]
    }
   ],
   "source": [
    "print(my_name.__doc__)"
   ]
  },
  {
   "cell_type": "markdown",
   "metadata": {},
   "source": [
    "<h3> return Statement </h3>"
   ]
  },
  {
   "cell_type": "markdown",
   "metadata": {},
   "source": [
    "- return statement is used to exit a function and go back to the place from where it was called.\n",
    "- return statements are optional.\n",
    "- If there is no return statement inside a function, then Pythin returns a None Object."
   ]
  },
  {
   "cell_type": "code",
   "execution_count": 29,
   "metadata": {},
   "outputs": [
    {
     "name": "stdout",
     "output_type": "stream",
     "text": [
      "\n",
      "    This function returns the sum of all the elements in a list.\n",
      "    \n"
     ]
    },
    {
     "data": {
      "text/plain": [
       "55"
      ]
     },
     "execution_count": 29,
     "metadata": {},
     "output_type": "execute_result"
    }
   ],
   "source": [
    "def get_sum(lst):\n",
    "    \"\"\"\n",
    "    This function returns the sum of all the elements in a list.\n",
    "    \"\"\"\n",
    "    sum = 0  # initialize sum\n",
    "    \n",
    "    # iterating over each element of the list\n",
    "    for i in lst:\n",
    "        sum += i\n",
    "    return sum\n",
    "\n",
    "print(get_sum.__doc__)\n",
    "get_sum([1, 2, 3, 4, 5, 6, 7, 8, 9, 10])"
   ]
  },
  {
   "cell_type": "markdown",
   "metadata": {},
   "source": [
    "<h3> How Function works in Python? </h3>"
   ]
  },
  {
   "cell_type": "markdown",
   "metadata": {},
   "source": [
    "        def functionName():\n",
    "        4. ...................\n",
    "        5. ...................\n",
    "        \n",
    "1. .................\n",
    "\n",
    "2. .................\n",
    "\n",
    "3. functionName();\n",
    "\n",
    "  .................\n",
    "\n",
    "  ................."
   ]
  },
  {
   "cell_type": "markdown",
   "metadata": {},
   "source": [
    "<h3> Scope and Lifetime of Variables </h3>"
   ]
  },
  {
   "cell_type": "code",
   "execution_count": 36,
   "metadata": {},
   "outputs": [
    {
     "name": "stdout",
     "output_type": "stream",
     "text": [
      "This is a local variable.\n",
      "This is a global variable.\n",
      "~~~~~~~~~~~~~~~~~~~~~~~~~\n",
      "This is a global variable.\n"
     ]
    },
    {
     "ename": "NameError",
     "evalue": "name 'local_var' is not defined",
     "output_type": "error",
     "traceback": [
      "\u001b[1;31m---------------------------------------------------------------------------\u001b[0m",
      "\u001b[1;31mNameError\u001b[0m                                 Traceback (most recent call last)",
      "\u001b[1;32m<ipython-input-36-956f6ef3d994>\u001b[0m in \u001b[0;36m<module>\u001b[1;34m()\u001b[0m\n\u001b[0;32m     14\u001b[0m \u001b[0mprint\u001b[0m\u001b[1;33m(\u001b[0m\u001b[1;34m\"~~~~~~~~~~~~~~~~~~~~~~~~~\"\u001b[0m\u001b[1;33m)\u001b[0m\u001b[1;33m\u001b[0m\u001b[0m\n\u001b[0;32m     15\u001b[0m \u001b[0mprint\u001b[0m\u001b[1;33m(\u001b[0m\u001b[0mglobal_var\u001b[0m\u001b[1;33m)\u001b[0m\u001b[1;33m\u001b[0m\u001b[0m\n\u001b[1;32m---> 16\u001b[1;33m \u001b[0mprint\u001b[0m\u001b[1;33m(\u001b[0m\u001b[0mlocal_var\u001b[0m\u001b[1;33m)\u001b[0m\u001b[1;33m\u001b[0m\u001b[0m\n\u001b[0m",
      "\u001b[1;31mNameError\u001b[0m: name 'local_var' is not defined"
     ]
    }
   ],
   "source": [
    "global_var = \"This is a global variable.\"\n",
    "\n",
    "def test_lifetime():\n",
    "    \"\"\"\n",
    "    This function demonstrates lifetime of variables.\n",
    "    \"\"\"\n",
    "    local_var = \"This is a local variable.\"\n",
    "    print(local_var)\n",
    "    \n",
    "    print(global_var)\n",
    "    \n",
    "\n",
    "test_lifetime()  \n",
    "print(\"~~~~~~~~~~~~~~~~~~~~~~~~~\")\n",
    "print(global_var)\n",
    "print(local_var)"
   ]
  },
  {
   "cell_type": "markdown",
   "metadata": {},
   "source": [
    "<h3> Python program to print Highest Common Factor (HCF) of 2 numbers </h3>"
   ]
  },
  {
   "cell_type": "code",
   "execution_count": 41,
   "metadata": {},
   "outputs": [
    {
     "name": "stdout",
     "output_type": "stream",
     "text": [
      "The HCF of 98 and 78 is 2.\n"
     ]
    }
   ],
   "source": [
    "def computeHCF(a, b):\n",
    "    \"\"\"\n",
    "    Computing HCF of 2 numbers.\n",
    "    \"\"\"\n",
    "    smaller = b if a > b else a\n",
    "    \n",
    "    hcf = 1\n",
    "    \n",
    "    for i in range(1, smaller+1):\n",
    "        if (a % i == 0) and (b % i == 0):\n",
    "            hcf = i\n",
    "    return hcf\n",
    "\n",
    "num1 = 98\n",
    "num2 = 78\n",
    "\n",
    "print(\"The HCF of {} and {} is {}.\".format(num1, num2, computeHCF(num1, num2)))"
   ]
  }
 ],
 "metadata": {
  "kernelspec": {
   "display_name": "Python 3",
   "language": "python",
   "name": "python3"
  },
  "language_info": {
   "codemirror_mode": {
    "name": "ipython",
    "version": 3
   },
   "file_extension": ".py",
   "mimetype": "text/x-python",
   "name": "python",
   "nbconvert_exporter": "python",
   "pygments_lexer": "ipython3",
   "version": "3.6.4"
  }
 },
 "nbformat": 4,
 "nbformat_minor": 2
}
