{
 "cells": [
  {
   "cell_type": "markdown",
   "metadata": {},
   "source": [
    "# Function Arguments"
   ]
  },
  {
   "cell_type": "code",
   "execution_count": 4,
   "metadata": {},
   "outputs": [
    {
     "name": "stdout",
     "output_type": "stream",
     "text": [
      "Hello Vennela, NEVER GIVE UP!\n"
     ]
    }
   ],
   "source": [
    "# declaring a function with 2 parameters\n",
    "def greet(name, msg):\n",
    "    \"\"\"\n",
    "    This function greets a person.\n",
    "    \"\"\"\n",
    "    print(\"Hello {1}, {0}\".format(msg, name))\n",
    "    \n",
    "# call the function with arguments\n",
    "greet(\"Vennela\", \"NEVER GIVE UP!\")"
   ]
  },
  {
   "cell_type": "code",
   "execution_count": 6,
   "metadata": {},
   "outputs": [
    {
     "ename": "TypeError",
     "evalue": "greet() missing 1 required positional argument: 'msg'",
     "output_type": "error",
     "traceback": [
      "\u001b[1;31m---------------------------------------------------------------------------\u001b[0m",
      "\u001b[1;31mTypeError\u001b[0m                                 Traceback (most recent call last)",
      "\u001b[1;32m<ipython-input-6-8315786c26e2>\u001b[0m in \u001b[0;36m<module>\u001b[1;34m()\u001b[0m\n\u001b[0;32m      1\u001b[0m \u001b[1;31m# if we pass only 1 argument while invoking function\u001b[0m\u001b[1;33m\u001b[0m\u001b[1;33m\u001b[0m\u001b[0m\n\u001b[1;32m----> 2\u001b[1;33m \u001b[0mgreet\u001b[0m\u001b[1;33m(\u001b[0m\u001b[1;34m\"Vennela\"\u001b[0m\u001b[1;33m)\u001b[0m\u001b[1;33m\u001b[0m\u001b[0m\n\u001b[0m",
      "\u001b[1;31mTypeError\u001b[0m: greet() missing 1 required positional argument: 'msg'"
     ]
    }
   ],
   "source": [
    "# if we pass only 1 argument while invoking function  - will get ERROR - TypeError\n",
    "greet(\"Vennela\")"
   ]
  },
  {
   "cell_type": "markdown",
   "metadata": {},
   "source": [
    "<h3>1. Default Arguments </h3>"
   ]
  },
  {
   "cell_type": "code",
   "execution_count": 14,
   "metadata": {},
   "outputs": [
    {
     "name": "stdout",
     "output_type": "stream",
     "text": [
      "Hello Vennela, Have a humble start.\n"
     ]
    }
   ],
   "source": [
    "def greet(name, msg = \"NEVER GIVE UP!\"):  # 2nd argument - default argument\n",
    "    \"\"\"\n",
    "    This function greets a person.\n",
    "    If a message is not passed while invoking the function, it defaults to \"NEVER GIVE UP!\"\n",
    "    \"\"\"\n",
    "    print(\"Hello {1}, {0}\".format(msg, name))\n",
    "    \n",
    "# If 2nd argument is passed to the function then 2nd argument overrides the default argument.\n",
    "greet(\"Vennela\", \"Have a humble start.\")  "
   ]
  },
  {
   "cell_type": "code",
   "execution_count": 15,
   "metadata": {},
   "outputs": [
    {
     "name": "stdout",
     "output_type": "stream",
     "text": [
      "Hello Vennela, NEVER GIVE UP!\n"
     ]
    }
   ],
   "source": [
    "# call the function with 1 argument, the other arguments maps to default argument\n",
    "greet(\"Vennela\")"
   ]
  },
  {
   "cell_type": "markdown",
   "metadata": {},
   "source": [
    "- Once we have a default argument, all the arguments to its right must also have default values.\n",
    "- def greet(msg=\"Good morning!\", name)   # will get a SyntaxError: non-default argument follows default argument\n",
    "- default arguments must be given at the end of list of non-default arguments."
   ]
  },
  {
   "cell_type": "markdown",
   "metadata": {},
   "source": [
    "<h3>2. Keyword Arguments </h3>"
   ]
  },
  {
   "cell_type": "markdown",
   "metadata": {},
   "source": [
    "- kwargs allows you to pass keyworded variable length of arguments to a function. \n",
    "- You should use **kwargs if you want to handle named arguments in a function."
   ]
  },
  {
   "cell_type": "code",
   "execution_count": 16,
   "metadata": {},
   "outputs": [
    {
     "name": "stdout",
     "output_type": "stream",
     "text": [
      "Hello Titili, Keep trying till you achieve it.\n"
     ]
    }
   ],
   "source": [
    "def greet(**kwargs):\n",
    "    \"\"\"\n",
    "    This function greets a person with provided message.\n",
    "    \"\"\"\n",
    "    if kwargs:\n",
    "        print(\"Hello {0}, {1}\".format(kwargs['name'], kwargs['message']))\n",
    "        \n",
    "greet(name=\"Titili\", message=\"Keep trying till you achieve it.\")"
   ]
  },
  {
   "cell_type": "markdown",
   "metadata": {},
   "source": [
    "<h3>3. Arbitary Arguments </h3>"
   ]
  },
  {
   "cell_type": "markdown",
   "metadata": {},
   "source": [
    "- Sometimes we do not know in advance the number of arguments that will be passed into the function. \n",
    "- Python allows us to handle this kind of situation through function calls with arbitary number of arguments."
   ]
  },
  {
   "cell_type": "code",
   "execution_count": 1,
   "metadata": {},
   "outputs": [
    {
     "name": "stdout",
     "output_type": "stream",
     "text": [
      "('Amma', 'Nana', 'Babu', 'Sreenu Mauya', 'Tataji')\n",
      "Hello, Amma\n",
      "Hello, Nana\n",
      "Hello, Babu\n",
      "Hello, Sreenu Mauya\n",
      "Hello, Tataji\n"
     ]
    }
   ],
   "source": [
    "def greet(*names):\n",
    "    \"\"\"\n",
    "    This function greets all people in the names tuple.\n",
    "    \"\"\"\n",
    "    print(names)\n",
    "    \n",
    "    for name in names:\n",
    "        print(\"Hello, {}\".format(name))\n",
    "        \n",
    "greet(\"Amma\", \"Nana\", \"Babu\", \"Sreenu Mauya\", \"Tataji\")        "
   ]
  }
 ],
 "metadata": {
  "kernelspec": {
   "display_name": "Python 3",
   "language": "python",
   "name": "python3"
  },
  "language_info": {
   "codemirror_mode": {
    "name": "ipython",
    "version": 3
   },
   "file_extension": ".py",
   "mimetype": "text/x-python",
   "name": "python",
   "nbconvert_exporter": "python",
   "pygments_lexer": "ipython3",
   "version": "3.6.4"
  }
 },
 "nbformat": 4,
 "nbformat_minor": 2
}
