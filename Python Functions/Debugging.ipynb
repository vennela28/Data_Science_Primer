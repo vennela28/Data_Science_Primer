{
 "cells": [
  {
   "cell_type": "markdown",
   "metadata": {},
   "source": [
    "# Debugging"
   ]
  },
  {
   "cell_type": "markdown",
   "metadata": {},
   "source": [
    "- <b> pdb </b> is an interactive debugging environment for Python programs.\n",
    "- It includes features to let you pause the program, look at the values of the variables, and watch program execution step by step to find bugs in the logic."
   ]
  },
  {
   "cell_type": "markdown",
   "metadata": {},
   "source": [
    "<h3> Starting the Debugger </h3>"
   ]
  },
  {
   "cell_type": "markdown",
   "metadata": {},
   "source": [
    "<h4> From the command line </h4>"
   ]
  },
  {
   "cell_type": "code",
   "execution_count": 2,
   "metadata": {},
   "outputs": [
    {
     "name": "stdout",
     "output_type": "stream",
     "text": [
      "0\n",
      "1\n",
      "2\n",
      "3\n",
      "4\n"
     ]
    }
   ],
   "source": [
    "def seq(n):\n",
    "    for i in range(n):\n",
    "        print(i)\n",
    "    return \n",
    "\n",
    "seq(5)"
   ]
  },
  {
   "cell_type": "markdown",
   "metadata": {},
   "source": [
    "<h4> From within the program </h4>"
   ]
  },
  {
   "cell_type": "code",
   "execution_count": null,
   "metadata": {},
   "outputs": [
    {
     "name": "stdout",
     "output_type": "stream",
     "text": [
      "> <ipython-input-4-5ec84b03cc66>(7)seq()\n",
      "-> print(i)\n",
      "(Pdb) h\n",
      "\n",
      "Documented commands (type help <topic>):\n",
      "========================================\n",
      "EOF    c          d        h         list      q        rv       undisplay\n",
      "a      cl         debug    help      ll        quit     s        unt      \n",
      "alias  clear      disable  ignore    longlist  r        source   until    \n",
      "args   commands   display  interact  n         restart  step     up       \n",
      "b      condition  down     j         next      return   tbreak   w        \n",
      "break  cont       enable   jump      p         retval   u        whatis   \n",
      "bt     continue   exit     l         pp        run      unalias  where    \n",
      "\n",
      "Miscellaneous help topics:\n",
      "==========================\n",
      "exec  pdb\n",
      "\n",
      "(Pdb) p locals()\n",
      "{'i': 0, 'n': 5}\n",
      "(Pdb) c\n",
      "0\n",
      "> <ipython-input-4-5ec84b03cc66>(6)seq()\n",
      "-> pdb.set_trace()   # breakpoint\n",
      "(Pdb) p locals()\n",
      "{'i': 1, 'n': 5}\n"
     ]
    }
   ],
   "source": [
    "import pdb\n",
    "\n",
    "# interactive debugging\n",
    "def seq(n):\n",
    "    for i in range(n):\n",
    "        pdb.set_trace()   # breakpoint\n",
    "        print(i)\n",
    "    return \n",
    "\n",
    "seq(5)\n",
    "\n",
    "# c : continue\n",
    "# q : quit\n",
    "# h: help\n",
    "# list\n",
    "# p : print\n",
    "# p locals()\n",
    "# p globals()"
   ]
  }
 ],
 "metadata": {
  "kernelspec": {
   "display_name": "Python 3",
   "language": "python",
   "name": "python3"
  },
  "language_info": {
   "codemirror_mode": {
    "name": "ipython",
    "version": 3
   },
   "file_extension": ".py",
   "mimetype": "text/x-python",
   "name": "python",
   "nbconvert_exporter": "python",
   "pygments_lexer": "ipython3",
   "version": "3.6.4"
  }
 },
 "nbformat": 4,
 "nbformat_minor": 2
}
