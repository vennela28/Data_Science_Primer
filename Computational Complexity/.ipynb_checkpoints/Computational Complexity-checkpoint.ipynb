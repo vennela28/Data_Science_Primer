{
 "cells": [
  {
   "cell_type": "code",
   "execution_count": 6,
   "metadata": {},
   "outputs": [
    {
     "data": {
      "text/plain": [
       "[82,\n",
       " 27,\n",
       " 37,\n",
       " 56,\n",
       " 66,\n",
       " 4,\n",
       " 30,\n",
       " 35,\n",
       " 86,\n",
       " 28,\n",
       " 93,\n",
       " 26,\n",
       " 10,\n",
       " 38,\n",
       " 41,\n",
       " 85,\n",
       " 22,\n",
       " 47,\n",
       " 52,\n",
       " 39,\n",
       " 14,\n",
       " 31,\n",
       " 74,\n",
       " 55,\n",
       " 76,\n",
       " 57,\n",
       " 69,\n",
       " 89,\n",
       " 91,\n",
       " 9,\n",
       " 2,\n",
       " 33,\n",
       " 11,\n",
       " 75,\n",
       " 16,\n",
       " 80,\n",
       " 6,\n",
       " 95,\n",
       " 23,\n",
       " 71,\n",
       " 87,\n",
       " 34,\n",
       " 5,\n",
       " 61,\n",
       " 92,\n",
       " 20,\n",
       " 0,\n",
       " 8,\n",
       " 18,\n",
       " 70,\n",
       " 24,\n",
       " 21,\n",
       " 60,\n",
       " 88,\n",
       " 99,\n",
       " 54,\n",
       " 72,\n",
       " 45,\n",
       " 29,\n",
       " 43,\n",
       " 83,\n",
       " 19,\n",
       " 50,\n",
       " 17,\n",
       " 15,\n",
       " 42,\n",
       " 96,\n",
       " 40,\n",
       " 25,\n",
       " 73,\n",
       " 51,\n",
       " 68,\n",
       " 49,\n",
       " 65,\n",
       " 36,\n",
       " 32,\n",
       " 90,\n",
       " 77,\n",
       " 1,\n",
       " 44,\n",
       " 94,\n",
       " 84,\n",
       " 98,\n",
       " 53,\n",
       " 67,\n",
       " 58,\n",
       " 12,\n",
       " 3,\n",
       " 81,\n",
       " 7,\n",
       " 48,\n",
       " 64,\n",
       " 79,\n",
       " 62,\n",
       " 59,\n",
       " 78,\n",
       " 97,\n",
       " 63,\n",
       " 13,\n",
       " 46]"
      ]
     },
     "execution_count": 6,
     "metadata": {},
     "output_type": "execute_result"
    }
   ],
   "source": [
    "import numpy as np\n",
    "import random\n",
    "\n",
    "lst = list(range(100))\n",
    "random.shuffle(lst)\n",
    "\n",
    "lst"
   ]
  },
  {
   "cell_type": "code",
   "execution_count": 9,
   "metadata": {
    "scrolled": true
   },
   "outputs": [
    {
     "name": "stdout",
     "output_type": "stream",
     "text": [
      "Found\n"
     ]
    }
   ],
   "source": [
    "# search the element in the list of length n. O(n) - time complexity\n",
    "q = 64\n",
    "isFound = False\n",
    "for ele in lst:\n",
    "    if ele == q:\n",
    "        isFound = True\n",
    "        print(\"Found\")\n",
    "        break\n",
    "if isFound == False:\n",
    "    print(\"Not Found\")"
   ]
  },
  {
   "cell_type": "code",
   "execution_count": 17,
   "metadata": {},
   "outputs": [
    {
     "data": {
      "text/plain": [
       "64"
      ]
     },
     "execution_count": 17,
     "metadata": {},
     "output_type": "execute_result"
    }
   ],
   "source": [
    "# Binary Search - If list is sorted. The search is faster. - O(log n)\n",
    "\n",
    "import math\n",
    "\n",
    "def binarySearch(arr, left, right, x):\n",
    "    \n",
    "    if right >= left:\n",
    "        mid = left + math.floor((right - left)/2)\n",
    "        \n",
    "        if(arr[mid] == x):\n",
    "            return mid\n",
    "        \n",
    "        elif(arr[mid] > x):\n",
    "            return binarySearch(arr, left, mid-1, x)\n",
    "        \n",
    "        else:\n",
    "            return binarySearch(arr, mid+1, right, x)\n",
    "        \n",
    "    else:\n",
    "        return -1\n",
    "    \n",
    "arr.sort()\n",
    "q = 32\n",
    "binarySearch(arr, 0, len(arr)-1, q)"
   ]
  },
  {
   "cell_type": "markdown",
   "metadata": {},
   "source": [
    "# Find common elements in 2 lists"
   ]
  },
  {
   "cell_type": "code",
   "execution_count": 22,
   "metadata": {},
   "outputs": [
    {
     "name": "stdout",
     "output_type": "stream",
     "text": [
      "2\n",
      "3\n",
      "11\n",
      "9\n",
      "20\n",
      "4\n",
      "22\n",
      "8\n",
      "23\n",
      "1\n",
      "7\n",
      "17\n",
      "14\n",
      "5\n",
      "6\n",
      "21\n",
      "18\n",
      "0\n",
      "19\n",
      "12\n",
      "24\n",
      "16\n",
      "10\n",
      "15\n",
      "13\n",
      "The total number of common elements are:  25\n"
     ]
    }
   ],
   "source": [
    "lst1 = list(range(100))\n",
    "random.shuffle(lst1)\n",
    "\n",
    "lst2 = list(range(25))\n",
    "random.shuffle(lst2)\n",
    "\n",
    "# Time Complexity: O(n*m)\n",
    "# Space Complexity: O(1)\n",
    "\n",
    "count = 0\n",
    "for i in lst1:\n",
    "    for j in lst2:\n",
    "        if i == j:\n",
    "            print(i)\n",
    "            count += 1\n",
    "            \n",
    "print(\"The total number of common elements are: \", count)"
   ]
  },
  {
   "cell_type": "markdown",
   "metadata": {},
   "source": [
    "# Using Dictionaries - Hashmaps & Hashtables"
   ]
  },
  {
   "cell_type": "code",
   "execution_count": 32,
   "metadata": {},
   "outputs": [
    {
     "name": "stdout",
     "output_type": "stream",
     "text": [
      "16\n",
      "15\n",
      "17\n",
      "18\n",
      "3\n",
      "11\n",
      "4\n",
      "2\n",
      "13\n",
      "0\n",
      "1\n",
      "12\n",
      "8\n",
      "14\n",
      "9\n",
      "6\n",
      "19\n",
      "10\n",
      "5\n",
      "7\n",
      "The total number of common elements:  20\n"
     ]
    }
   ],
   "source": [
    "l1 = list(range(100))\n",
    "random.shuffle(l1)\n",
    "\n",
    "l2 = list(range(20))\n",
    "random.shuffle(l2)\n",
    "\n",
    "# Time complexity : O(n+m)\n",
    "# Space Complexity : O(m)\n",
    "\n",
    "# add all elements in the smallest list into hashtable / Dict : O(m) space\n",
    "smallList = {}\n",
    "for i in l2:\n",
    "    smallList[i] = 1   # any value is OK. Only key is important here.\n",
    "    \n",
    "# Now find the common element\n",
    "count = 0\n",
    "for j in l1:\n",
    "    if smallList.get(j) != None:\n",
    "        print(j)\n",
    "        count += 1\n",
    "        \n",
    "print(\"The total number of common elements: \", count)"
   ]
  }
 ],
 "metadata": {
  "kernelspec": {
   "display_name": "Python 3",
   "language": "python",
   "name": "python3"
  },
  "language_info": {
   "codemirror_mode": {
    "name": "ipython",
    "version": 3
   },
   "file_extension": ".py",
   "mimetype": "text/x-python",
   "name": "python",
   "nbconvert_exporter": "python",
   "pygments_lexer": "ipython3",
   "version": "3.6.4"
  }
 },
 "nbformat": 4,
 "nbformat_minor": 2
}
